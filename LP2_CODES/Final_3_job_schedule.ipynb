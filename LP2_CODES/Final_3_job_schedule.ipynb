{
 "cells": [
  {
   "cell_type": "code",
   "execution_count": 24,
   "id": "a1be31c8",
   "metadata": {},
   "outputs": [
    {
     "name": "stdout",
     "output_type": "stream",
     "text": [
      "Job Schedule: ['Job_A', 'Job_B', 'Job_C', 'Job_E', 'Job_D']\n"
     ]
    }
   ],
   "source": [
    "def schedule_jobs(jobs):\n",
    "    sorted_jobs = sorted(job_var,  key= lambda x: x['duration'])\n",
    "\n",
    "    schedule = []\n",
    "    current_time = 0\n",
    "\n",
    "    for job in sorted_jobs:\n",
    "        if current_time + job['duration'] <= job['deadline']:\n",
    "            schedule.append(job['name'])\n",
    "            current_time = current_time + job['duration']\n",
    "\n",
    "    return schedule\n",
    "\n",
    "job_var = [\n",
    "    {'name': 'Job_A', 'duration': 1, 'deadline': 118},\n",
    "    {'name': 'Job_B', 'duration': 3, 'deadline': 157},\n",
    "    {'name': 'Job_C', 'duration': 5, 'deadline': 159},\n",
    "    {'name': 'Job_D', 'duration': 7, 'deadline': 200},\n",
    "    {'name': 'Job_E', 'duration': 6, 'deadline': 912}\n",
    "] # collection of dictionaries in a list ( '[]' represent a list, '{}' represent a dictionary )\n",
    "\n",
    "ans = schedule_jobs(job_var)\n",
    "print(\"Job Schedule:\", ans)"
   ]
  }
 ],
 "metadata": {
  "kernelspec": {
   "display_name": "Python 3 (ipykernel)",
   "language": "python",
   "name": "python3"
  },
  "language_info": {
   "codemirror_mode": {
    "name": "ipython",
    "version": 3
   },
   "file_extension": ".py",
   "mimetype": "text/x-python",
   "name": "python",
   "nbconvert_exporter": "python",
   "pygments_lexer": "ipython3",
   "version": "3.9.13"
  }
 },
 "nbformat": 4,
 "nbformat_minor": 5
}
