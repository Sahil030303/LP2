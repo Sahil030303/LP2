{
 "cells": [
  {
   "cell_type": "code",
   "execution_count": 1,
   "id": "6d2001c9",
   "metadata": {},
   "outputs": [
    {
     "name": "stdout",
     "output_type": "stream",
     "text": [
      "{1: 0, 2: 4, 3: 3, 4: 2}\n"
     ]
    }
   ],
   "source": [
    "from heapq import *\n",
    "\n",
    "\n",
    "def dijkstra(graph, start_node, visited, distances):\n",
    "    distances[start_node] = 0\n",
    "    priority_queue = []\n",
    "    heappush(priority_queue, [0, start_node]) # pushing the start node into priority queue with distance 0\n",
    "\n",
    "    while priority_queue:\n",
    "        curr_dist, curr_node= heappop(priority_queue) #current distance holds the minimum value and initially curr_node would start_node\n",
    "        visited[curr_node] = True\n",
    "        for neighbor_distance, neighbor_node in graph[curr_node]:\n",
    "            if not visited[neighbor_node] and distances[curr_node] + neighbor_distance < distances[neighbor_node]:\n",
    "                distances[neighbor_node] = distances[curr_node] + neighbor_distance\n",
    "                heappush(priority_queue, [distances[curr_node] + neighbor_distance, neighbor_node])\n",
    "\n",
    "    print(distances)\n",
    "\n",
    "\n",
    "edges = [[1, 2, 5], [1, 3, 3], [2, 3, 1], [1, 4, 2], [2, 4, 2], [3, 4, 6]]\n",
    "n = 4\n",
    "graph = {}\n",
    "distances = {}\n",
    "visited = {}\n",
    "\n",
    "for i in range(1, n+1):\n",
    "    graph[i] = []\n",
    "    distances[i] = float('inf')\n",
    "    visited[i] = 0\n",
    "\n",
    "for u, v, d in edges:\n",
    "    graph[u].append([d, v])\n",
    "    graph[v].append([d, u])\n",
    "\n",
    "start_node = 1\n",
    "dijkstra(graph, start_node, visited, distances)\n"
   ]
  }
 ],
 "metadata": {
  "kernelspec": {
   "display_name": "Python 3 (ipykernel)",
   "language": "python",
   "name": "python3"
  },
  "language_info": {
   "codemirror_mode": {
    "name": "ipython",
    "version": 3
   },
   "file_extension": ".py",
   "mimetype": "text/x-python",
   "name": "python",
   "nbconvert_exporter": "python",
   "pygments_lexer": "ipython3",
   "version": "3.9.13"
  }
 },
 "nbformat": 4,
 "nbformat_minor": 5
}
