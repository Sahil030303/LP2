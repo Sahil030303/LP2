{
 "cells": [
  {
   "cell_type": "code",
   "execution_count": 1,
   "id": "149fba30",
   "metadata": {},
   "outputs": [
    {
     "name": "stdout",
     "output_type": "stream",
     "text": [
      "Solution exist and Following are the assigned colours:\n",
      "1 2 3 2 "
     ]
    },
    {
     "data": {
      "text/plain": [
       "True"
      ]
     },
     "execution_count": 1,
     "metadata": {},
     "output_type": "execute_result"
    }
   ],
   "source": [
    "no_vertices = 4\n",
    "m = 3\n",
    "graph = [[0, 1, 1, 1], \n",
    "         [1, 0, 1, 0], \n",
    "         [1, 1, 0, 1], \n",
    "         [1, 0, 1, 0]]\n",
    "\n",
    "def isSafe(v, colour_list, curr_color):\n",
    "    for i in range(no_vertices):\n",
    "        if graph[v][i] == 1 and colour_list[i] == curr_color:\n",
    "            return False\n",
    "    return True\n",
    "\n",
    "def graphColourUtil(m, colour_list, v):\n",
    "    if v == no_vertices: #base case \n",
    "        return True\n",
    "\n",
    "    for curr_color in range(1, m+1):\n",
    "        if isSafe(v, colour_list, curr_color) == True:\n",
    "            colour_list[v] = curr_color\n",
    "            \n",
    "            if graphColourUtil(m, colour_list, v + 1) == True:\n",
    "                return True\n",
    "            colour_list[v] = 0\n",
    "\n",
    "    return False\n",
    "\n",
    "def graphColouring(m):\n",
    "    colour_list = [0] * no_vertices\n",
    "    \n",
    "    if graphColourUtil(m, colour_list, 0) == False:\n",
    "        print(\"Solution does not exist\")\n",
    "        return False\n",
    "    \n",
    "    print(\"Solution exist and Following are the assigned colours:\")\n",
    "    for curr_color in colour_list:\n",
    "        print(curr_color, end=' ')\n",
    "    return True\n",
    "\n",
    "graphColouring(m)\n",
    "\n"
   ]
  }
 ],
 "metadata": {
  "kernelspec": {
   "display_name": "Python 3 (ipykernel)",
   "language": "python",
   "name": "python3"
  },
  "language_info": {
   "codemirror_mode": {
    "name": "ipython",
    "version": 3
   },
   "file_extension": ".py",
   "mimetype": "text/x-python",
   "name": "python",
   "nbconvert_exporter": "python",
   "pygments_lexer": "ipython3",
   "version": "3.9.13"
  }
 },
 "nbformat": 4,
 "nbformat_minor": 5
}
