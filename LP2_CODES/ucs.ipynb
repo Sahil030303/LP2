{
 "cells": [
  {
   "cell_type": "code",
   "execution_count": 1,
   "id": "1bdecb63",
   "metadata": {},
   "outputs": [
    {
     "name": "stdout",
     "output_type": "stream",
     "text": [
      "The cost of the path from A to D is: 8\n"
     ]
    }
   ],
   "source": [
    "from queue import PriorityQueue\n",
    "\n",
    "def ucs(graph, start, goal):\n",
    "    visited = set()  # Set to track visited nodes\n",
    "    frontier = PriorityQueue()  # Priority queue to store nodes with their path cost\n",
    "    frontier.put((0, start))  # Start node with path cost 0\n",
    "\n",
    "    while not frontier.empty():\n",
    "        cost, current = frontier.get()\n",
    "\n",
    "        if current == goal:\n",
    "            # Goal node found, return the cost\n",
    "            return cost\n",
    "\n",
    "        visited.add(current)\n",
    "\n",
    "        for neighbor, neighbor_cost in graph[current].items():\n",
    "            if neighbor not in visited:\n",
    "                new_cost = cost + neighbor_cost\n",
    "                frontier.put((new_cost, neighbor))\n",
    "\n",
    "    # If goal node not found, return None or raise an exception\n",
    "    return None\n",
    "\n",
    "# Example usage:\n",
    "graph = {\n",
    "    'A': {'B': 4, 'C': 2},\n",
    "    'B': {'A': 4, 'C': 1, 'D': 5},\n",
    "    'C': {'A': 2, 'B': 1, 'D': 8},\n",
    "    'D': {'B': 5, 'C': 8}\n",
    "}\n",
    "\n",
    "start_node = 'A'\n",
    "goal_node = 'D'\n",
    "\n",
    "cost = ucs(graph, start_node, goal_node)\n",
    "\n",
    "if cost is not None:\n",
    "    print(f\"The cost of the path from {start_node} to {goal_node} is: {cost}\")\n",
    "else:\n",
    "    print(\"No path found from the start node to the goal node.\")\n"
   ]
  }
 ],
 "metadata": {
  "kernelspec": {
   "display_name": "Python 3 (ipykernel)",
   "language": "python",
   "name": "python3"
  },
  "language_info": {
   "codemirror_mode": {
    "name": "ipython",
    "version": 3
   },
   "file_extension": ".py",
   "mimetype": "text/x-python",
   "name": "python",
   "nbconvert_exporter": "python",
   "pygments_lexer": "ipython3",
   "version": "3.9.13"
  }
 },
 "nbformat": 4,
 "nbformat_minor": 5
}
