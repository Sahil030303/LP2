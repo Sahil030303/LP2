{
 "cells": [
  {
   "cell_type": "code",
   "execution_count": 19,
   "id": "f52f898e",
   "metadata": {},
   "outputs": [
    {
     "name": "stdout",
     "output_type": "stream",
     "text": [
      ". Q . .\n",
      ". . . Q\n",
      "Q . . .\n",
      ". . Q .\n",
      "\n",
      ". . Q .\n",
      "Q . . .\n",
      ". . . Q\n",
      ". Q . .\n",
      "\n"
     ]
    }
   ],
   "source": [
    "def solveNQueens(n):\n",
    "    board = [ ['.' for x in range(n)] for x in range(n)]\n",
    "    solutions = []\n",
    "\n",
    "    def isSafe(row, col):\n",
    "        \n",
    "        # Check if there is a queen in the same column\n",
    "        for i in range(row):\n",
    "            if board[i][col] == 'Q':\n",
    "                return False\n",
    "\n",
    "            \n",
    "        # Check the upper-left diagonal\n",
    "        i = row - 1\n",
    "        j = col - 1\n",
    "        while i >= 0 and j >= 0:\n",
    "            if board[i][j] == 'Q':\n",
    "                return False\n",
    "            i = i - 1\n",
    "            j = j - 1\n",
    "\n",
    "            \n",
    "        # Check the upper-right diagonal\n",
    "        i = row - 1\n",
    "        j = col + 1\n",
    "        while i >= 0 and j < n:\n",
    "            if board[i][j] == 'Q':\n",
    "                return False\n",
    "            i = i - 1\n",
    "            j = j + 1\n",
    "\n",
    "        return True\n",
    "\n",
    "    \n",
    "    \n",
    "    def backtrack(row):\n",
    "        if row == n:\n",
    "            # Found a valid solution, add it to the list of solutions\n",
    "            solutions.append([' '.join(row) for row in board])\n",
    "            return\n",
    "\n",
    "        for col in range(n):\n",
    "            if isSafe(row, col):\n",
    "                board[row][col] = 'Q'\n",
    "                backtrack(row + 1)\n",
    "                board[row][col] = '.'\n",
    "\n",
    "    backtrack(0)\n",
    "    return solutions\n",
    "\n",
    "\n",
    "solutions = solveNQueens(4)\n",
    "for solution in solutions:\n",
    "    for row in solution:\n",
    "        print(row)\n",
    "    print()\n"
   ]
  },
  {
   "cell_type": "code",
   "execution_count": null,
   "id": "3fb83bb5",
   "metadata": {},
   "outputs": [],
   "source": []
  },
  {
   "cell_type": "code",
   "execution_count": 20,
   "id": "a4b18d54",
   "metadata": {},
   "outputs": [
    {
     "name": "stdout",
     "output_type": "stream",
     "text": [
      ". Q . .\n",
      ". . . Q\n",
      "Q . . .\n",
      ". . Q .\n",
      "\n",
      ". . Q .\n",
      "Q . . .\n",
      ". . . Q\n",
      ". Q . .\n",
      "\n"
     ]
    }
   ],
   "source": [
    "def NQueens(n):\n",
    "    board = [['.' for x in range(n)]for x in range(n)]\n",
    "    solutions = []\n",
    "    def isSafe(row, col):\n",
    "        for i in range(n):\n",
    "            if(board[i][col]=='Q'):\n",
    "                return False\n",
    "            \n",
    "        i = row-1\n",
    "        j = col-1\n",
    "        while (i>=0 and j>=0):\n",
    "            if(board[i][col]=='Q'):\n",
    "                return False\n",
    "            i = i-1\n",
    "            j = j-1\n",
    "        \n",
    "        i = row-1\n",
    "        j = col+1\n",
    "        while (i>=0 and j<n):\n",
    "            if(board[i][col]=='Q'):\n",
    "                return False\n",
    "            i = i-1\n",
    "            j = j+1\n",
    "        \n",
    "        return True\n",
    "    \n",
    "    def backtrack(row):\n",
    "        if row==n:\n",
    "            solutions.append(''.join(row) for row in board)\n",
    "            return\n",
    "        \n",
    "        for col in range(n):\n",
    "            if isSafe(row, col) == True:\n",
    "                board[row][col]=\"Q\"\n",
    "                backtrack(row+1)\n",
    "                board[row][col]=\".\"\n",
    "                \n",
    "                \n",
    "    backtrack(0)\n",
    "    return solutions\n",
    "    \n",
    "ans = NQueens(4)\n",
    "for ans in solutions:\n",
    "    for x in ans:\n",
    "        print(x)\n",
    "    print()\n",
    "    "
   ]
  },
  {
   "cell_type": "code",
   "execution_count": null,
   "id": "e043be0e",
   "metadata": {},
   "outputs": [],
   "source": []
  },
  {
   "cell_type": "code",
   "execution_count": null,
   "id": "c671d5ce",
   "metadata": {},
   "outputs": [],
   "source": []
  },
  {
   "cell_type": "code",
   "execution_count": null,
   "id": "6daeae13",
   "metadata": {},
   "outputs": [],
   "source": []
  },
  {
   "cell_type": "code",
   "execution_count": null,
   "id": "8ee838de",
   "metadata": {},
   "outputs": [],
   "source": []
  },
  {
   "cell_type": "code",
   "execution_count": null,
   "id": "e135df83",
   "metadata": {},
   "outputs": [],
   "source": []
  },
  {
   "cell_type": "code",
   "execution_count": null,
   "id": "f81431b2",
   "metadata": {},
   "outputs": [],
   "source": []
  },
  {
   "cell_type": "code",
   "execution_count": null,
   "id": "7227e560",
   "metadata": {},
   "outputs": [],
   "source": []
  },
  {
   "cell_type": "code",
   "execution_count": null,
   "id": "82859f3d",
   "metadata": {},
   "outputs": [],
   "source": []
  },
  {
   "cell_type": "code",
   "execution_count": null,
   "id": "e1407027",
   "metadata": {},
   "outputs": [],
   "source": []
  },
  {
   "cell_type": "code",
   "execution_count": null,
   "id": "4bf3f0f9",
   "metadata": {},
   "outputs": [],
   "source": []
  },
  {
   "cell_type": "code",
   "execution_count": null,
   "id": "379221c9",
   "metadata": {},
   "outputs": [],
   "source": []
  },
  {
   "cell_type": "code",
   "execution_count": null,
   "id": "10243fe2",
   "metadata": {},
   "outputs": [],
   "source": []
  },
  {
   "cell_type": "code",
   "execution_count": null,
   "id": "a83a66d4",
   "metadata": {},
   "outputs": [],
   "source": []
  }
 ],
 "metadata": {
  "kernelspec": {
   "display_name": "Python 3 (ipykernel)",
   "language": "python",
   "name": "python3"
  },
  "language_info": {
   "codemirror_mode": {
    "name": "ipython",
    "version": 3
   },
   "file_extension": ".py",
   "mimetype": "text/x-python",
   "name": "python",
   "nbconvert_exporter": "python",
   "pygments_lexer": "ipython3",
   "version": "3.9.13"
  }
 },
 "nbformat": 4,
 "nbformat_minor": 5
}
